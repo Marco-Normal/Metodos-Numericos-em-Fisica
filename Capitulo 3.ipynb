{
 "cells": [
  {
   "cell_type": "markdown",
   "metadata": {},
   "source": [
    "Vamos começar com a questão das derivadas, principalmente de forma numérica. Normalmente queremos\n",
    "avaliar uma derivada em um ponto especifico. Caso tenhamos a função, é facil resolver\n",
    "analiticamente, porem, quando temos uma tabela de dados, por exemplo, fica um pouco mais complexo.\n",
    "Para resolver, poderiamos talvez fazer uma interpolação ou uma curva de regressão, e aplicar a\n",
    "diferenciação para essa nova função, porem, nem so por que ela aproxima bem uma função, significa\n",
    "que a derivada vai ser bem aproximada. Outra forma é utilizar o método das diferenças finitas, ou\n",
    "seja, diferenciação numerica. Em suma, ela faz uso da serie de Taylor, no ponto da função onde\n",
    "estamos interessados em sabe a derivada."
   ]
  },
  {
   "cell_type": "markdown",
   "metadata": {},
   "source": [
    "Diferenciação analitica. Vamos nos lembrar da definição formal de derivadas\n",
    "$$\n",
    "\\frac{\\mathrm{d}f(x)}{\\mathrm{d}x}|_{\\tilde{x}} = \\lim_{h \\to 0} = \\frac{f(\\tilde{x}+h)-f(\\tilde{x})}{h}\n",
    "$$\n",
    "Vamos nos utilizar da expansão de Taylor ao redor de $\\tilde{x}$, onde vamos simplificar para apenas $x$\n",
    "$$\n",
    "f(x+h) = f(x) + hf^{\\prime}(x) + \\frac{h^2}{2} f^{\\prime \\prime}(x) + \\frac{h^3}{4} f^{\\prime \\prime \\prime}(x) + ...\n",
    "$$\n",
    "Podemos rearranjar facilmente como\n",
    "$$\n",
    "f^{\\prime}(x) = \\frac{f(x+h)-f(x)}{h} + O(h)\n",
    "$$\n",
    "Onde tal formula é chamada de primeira aproximação da diferença positiva. Ela é igual à que chegamos analiticamente anteriormente, salvo um erro $O(h)$, que, em tese, não é tão grande, caso $h$ seja pequeno o suficiente."
   ]
  },
  {
   "cell_type": "markdown",
   "metadata": {},
   "source": [
    "Similarmente, podemos fazer a mesma analise para uma diferença negativa, onde o desenvolvimento é o mesmo, apenas sendo para $f(x-h)$, nos dando a formula\n",
    "$$\n",
    "f^{\\prime}(x) = \\frac{f(x)-f(x-h)}{h} + O(h)\n",
    "$$"
   ]
  },
  {
   "cell_type": "markdown",
   "metadata": {},
   "source": [
    "Caso queiramos tentar melhorar nossa aproximação, podemos fazer uma expansão para $\\frac{h}{2}$, de forma:\n",
    "$$\n",
    "f(x+\\frac{h}{2}) = f(x) + \\frac{h}{2}f^{\\prime}(x) + \\frac{h^2}{8} f^{\\prime \\prime}(x) + \\frac{h^3}{48} f^{\\prime \\prime \\prime}(x) + ...\n",
    "$$\n",
    "Onde nos da a formula\n",
    "$$\n",
    "f^{\\prime}(x) = \\frac{f(x+\\frac{h}{2})-f(x-\\frac{h}{2})}{h} + O(h^2)\n",
    "$$\n",
    "Que nos da a a primeira diferença central positiva.\n",
    "Vamos implementar"
   ]
  },
  {
   "cell_type": "code",
   "execution_count": 1,
   "metadata": {},
   "outputs": [],
   "source": [
    "import numpy as np\n",
    "import matplotlib.pyplot as plt"
   ]
  },
  {
   "cell_type": "code",
   "execution_count": 5,
   "metadata": {},
   "outputs": [
    {
     "name": "stdout",
     "output_type": "stream",
     "text": [
      "h            abs. error in fd     abs. error in cd\n",
      "1.000000e-01 0.3077044583376249 0.0134656094697734\n",
      "1.000000e-02 0.0260359156900742 0.0001350472493096\n",
      "1.000000e-03 0.0025550421497806 0.0000013505120728\n",
      "1.000000e-04 0.0002550180941236 0.0000000135077878\n",
      "1.000000e-05 0.0000254969542519 0.0000000001495843\n",
      "1.000000e-06 0.0000025492660578 0.0000000002500959\n",
      "1.000000e-07 0.0000002564334673 0.0000000011382744\n",
      "1.000000e-08 0.0000000189018428 0.0000000189018428\n",
      "1.000000e-09 0.0000003741732106 0.0000000699159992\n",
      "1.000000e-10 0.0000021505300500 0.0000021505300500\n",
      "1.000000e-11 0.0000332367747395 0.0000111721462455\n"
     ]
    }
   ],
   "source": [
    "def f(x):\n",
    "    return np.exp(np.sin(2*x))\n",
    "def fprime(x):\n",
    "    return 2*np.exp(np.sin(2*x))*np.cos(2*x)\n",
    "def calc_fd(f, x, h):\n",
    "    \"\"\" Calculudo da primeira diferença positiva\n",
    "        f: função que queremos aproximar\n",
    "        x: valor de x que queremos saber\n",
    "        h: passo\"\"\"\n",
    "    fd = (f(x+h) - f(x))/h\n",
    "    return fd\n",
    "def calc_cd(f,x, h):\n",
    "    \"\"\" Calculudo da primeira diferença central positiva\n",
    "        f: função que queremos aproximar\n",
    "        x: valor de x que queremos saber\n",
    "        h: passo\"\"\"\n",
    "    cd = (f(x+h/2) - f(x-h/2))/h\n",
    "    return cd\n",
    "x = 0.5\n",
    "an = fprime(x)\n",
    "hs = [10**(-i) for i in range(1,12)]\n",
    "fds = [abs(calc_fd(f,x,h) - an) for h in hs]\n",
    "cds = [abs(calc_cd(f,x,h) - an) for h in hs]\n",
    "\n",
    "rowf = \"{0:1e} {1:1.16f} {2:1.16f}\"\n",
    "print('h            abs. error in fd     abs. error in cd')\n",
    "for h, fd, cd in zip(hs,fds,cds):\n",
    "    print(rowf.format(h,fd,cd))"
   ]
  },
  {
   "cell_type": "markdown",
   "metadata": {},
   "source": [
    "Poderiamos tambem definir outros diferenciações, como por exemplo, a segunda diferença positiva\n",
    "$$\n",
    "f^{\\prime}(x) = \\frac{4f(x+\\frac{h}{2})-f(x-h)-3f(x)}{h} + O(h^2)\n",
    "$$\n",
    "Ou a segunda diferença central\n",
    "$$\n",
    "f^{\\prime}(x) = \\frac{27f(x+\\frac{h}{2})+f(x-\\frac{3}{2}h)-27f(x-\\frac{h}{2})-f(x+\\frac{3}{2}h)}{24h} + O(h^4)\n",
    "$$\n",
    "Essa segunda sendo a melhor, com um erro $O(h^4)$, mas quanto mais formos continuando, mais termos precisaremos calcular, oq eu chega em um ponto que ja não compensa mais."
   ]
  },
  {
   "cell_type": "markdown",
   "metadata": {},
   "source": [
    "Podemos aproximar a segunda derivada tambem, por meio de uma expansão de taylor similar\n",
    "$$\n",
    "f^{\\prime \\prime}(x) = 4\\frac{f(x+\\frac{h}{2})-f(x-\\frac{h}{2})-2f(x)}{h^2} + O(h^2)\n",
    "$$\n",
    "A primeira diferença central da segunda derivada"
   ]
  },
  {
   "cell_type": "markdown",
   "metadata": {},
   "source": [
    "O grande problema é que sempre supomos que teriamos essa função a nosso dispor, mas quase nunca isso é verdade, de forma que muitas vezes so vamos ter pontos em uma tabela, então vamos precisar por nos mesmos definir $h$ com o que tivermos em mão. Muitas vezes nossos pontos vao estar em uma grid, variando de um valor $a \\to b$, de formula\n",
    "$$\n",
    "x_i = a + ih\\\\\n",
    "i=0,1,2,...,n-1\\\\\n",
    "\\therefore\\\\\n",
    "h = \\frac{b-a}{n-1}\n",
    "$$\n",
    "Com essa definição, se tivermos 101 pontos de 0 a 5 e quisermos avaliar, por meio da diferença central, vamos precisar dobrar nosso valor de $h$ para podermos usar na nossa formula, portanto, podemos modificar nossa formula para\n",
    "$$\n",
    "f^{\\prime}(x) = \\frac{f(x+h)-f(x-h)}{2h} + O(h^2)\n",
    "$$\n",
    "Similarmente para segunda derivada\n",
    "$$\n",
    "f^{\\prime \\prime}(x) = \\frac{f(x+h)-f(x-h)-2f(x)}{h^2} + O(h^2)\n",
    "$$\n"
   ]
  },
  {
   "cell_type": "markdown",
   "metadata": {},
   "source": [
    "Uma formula para extrapolação de valores pode ser derivada, caso esteja interessado ver a extrapolação de Richardson, onde nosso valor pode ser dado por\n",
    "\n",
    "$$\n",
    "G = \\frac{2^p g(h/2) - g(h)}{2^p - 1} + O(h^{p+q})\n",
    "$$\n",
    "Vamos implementar"
   ]
  },
  {
   "cell_type": "code",
   "execution_count": 16,
   "metadata": {},
   "outputs": [
    {
     "name": "stdout",
     "output_type": "stream",
     "text": [
      "h          abs. err rich fd        abs. err. rich cd\n",
      "1.000000e-01 0.0259686059827384 0.0000098728370874\n",
      "1.000000e-02 0.0002695720500006 0.0000000009897421\n",
      "1.000000e-03 0.0000027005434182 0.0000000000011098\n",
      "1.000000e-04 0.0000000270109117 0.0000000000043667\n",
      "1.000000e-05 0.0000000003389138 0.0000000000280513\n",
      "1.000000e-06 0.0000000006941852 0.0000000002500959\n",
      "1.000000e-07 0.0000000100200586 0.0000000011382744\n",
      "1.000000e-08 0.0000000189018428 0.0000000995219467\n",
      "1.000000e-09 0.0000003741732106 0.0000005222029471\n",
      "1.000000e-10 0.0000110323142470 0.0000080717195146\n",
      "1.000000e-11 0.0000332367747395 0.0000703840408920\n"
     ]
    }
   ],
   "source": [
    "print('h          abs. err rich fd        abs. err. rich cd')\n",
    "for h in hs:\n",
    "    fdrich = 2*calc_fd(f, x, h/2) - calc_fd(f, x, h)\n",
    "    fd = abs(fdrich- an)\n",
    "    cdrich = (4*calc_cd(f, x, h/2)- calc_cd(f, x, h))/3\n",
    "    cd = abs(cdrich - an)\n",
    "    print(rowf.format(h, fd, cd))"
   ]
  },
  {
   "cell_type": "markdown",
   "metadata": {},
   "source": [
    "Existe tambem o método da auto-diferenciação, a qual chamamos nosso numero de \n",
    "$$\n",
    "\\mathbf{a} = a + a^{\\prime}d\n",
    "$$\n",
    "Onde d so serve para indicar a existencia da componente $a^{\\prime}$, onde definimos $d^2=0$. Com isso, todas suas operações fazem com que a parte sem $d$ sejam iguais às de um numero real e as com $d$ sigam as regras de diferenciação."
   ]
  },
  {
   "cell_type": "markdown",
   "metadata": {},
   "source": [
    "Vamos fazer agora um projeto de Mecanica quantica, para aplicarmos o que aprendemos sobre diferenciacao. A derivada faz-se de extrema importancia quanto ao ponto de calculo de energia cinetica na mecanica quantica. Para uma unica particula, sua equacao de oscilacao harmonica\n",
    "\n",
    "$$\n",
    "-\\frac{\\hbar^2}{2m} \\frac{\\mathrm{d}^2 \\psi(x)}{\\mathrm{d}x^2} + \\frac{1}{2}m \\omega^2 x^2 \\psi (x) = E \\psi (x)\n",
    "$$\n",
    "Onde $\\hbar$ da-se como a constante de planck dividida por $2 \\pi$ e $m$ se da como a massa da particula. Essa equacao envolve a energia cinetica, com o termo da segunda derivada e a energia potencial com o $x^2$ e o $\\omega$ se da como a a frequencia angular classica."
   ]
  },
  {
   "cell_type": "markdown",
   "metadata": {},
   "source": [
    "Qualquer livro de mecanica quantica vai nos ensinar a resolver achando os autovalores da energia\n",
    "$$\n",
    "E_n = \\left( n + \\frac{1}{2} \\right) \\hbar \\omega\n",
    "$$\n",
    "E os autovetores normalizados\n",
    "$$\n",
    "\\psi_n(x) = \\frac{1}{\\sqrt{2^n n!}} \\left(\\frac{m \\omega}{\\pi \\hbar}\\right)^{1/4} H_n \\left(\\sqrt{\\frac{m \\omega}{\\hbar}x}\\right) e^{-m \\omega x^2/(2 \\hbar)}\n",
    "$$\n",
    "Vemos que nosso termo possui um termo gaussiano, que se assemeha a uma normal em juncao com um termo polinomial $H_n(x)$ que é conhecido como o Polinomio de Hermite, que obedece uma relacao de recorrencia similar ao polonio de Legendre, dado por\n",
    "$$\n",
    "H_{j+1}(x)= 2xH_j(x) - 2jH_{j-1}(x)\n",
    "$$\n",
    "Para comecarmos, precisamos definir os termos $H_0(x) = 1$ e $H_1(x) = 2x$. A derivada é definida como \n",
    "$$\n",
    "H_n ^{\\prime} = 2n H_{n-1}(x)\n",
    "$$\n",
    "Mas por hora nao vamos precisar delas."
   ]
  },
  {
   "cell_type": "markdown",
   "metadata": {},
   "source": [
    "Por  meio do principio da correspondencia, se tivermos um numero quantico muito alto, vamos ter uma volta a principior classicos. Vamos nos lembrar da energia total $E$, da mecanica classica, dada por\n",
    "$$\n",
    "E = \\frac{1}{2}m \\omega ^2 x_0^2\n",
    "$$\n",
    "Esse caso considera a energia cinetica como zero, tendo pontos criticos em $\\pm x_0$. Onde nossa particula oscila entra $-x_0 \\geq x \\geq x_0$. Com isso, conseguimos derivar a nossa funcao densidade de probabilidade para a mecanica classica como\n",
    "$$\n",
    "P_c(x) = \\frac{1}{\\pi \\sqrt{x_0^2 - x^2}}\n",
    "$$\n",
    "Se fizermos a media da probabilidade da mecanica quantica que é dada por \n",
    "$$\n",
    "P(x) = |\\psi (x)|^2\n",
    "$$\n",
    "quando $n \\to \\infty$ vamos ter a volta da mecanica classica."
   ]
  },
  {
   "cell_type": "markdown",
   "metadata": {},
   "source": [
    "Um problema classico de mecanica quantica é uma particula a qual esta oscilando em uma caixa, ou seja, esta preso em um local com uma parede de potencial infinito, o que significa que nossa equcao de onda vai para zero nas bordas. Se nossa caixa for de $-L/2 \\to L/2$, nossa equcao de Schodinger dependente do tempo fica como\n",
    "$$\n",
    "- \\frac{\\hbar ^2}{2m} \\frac{\\mathrm{d}^2 \\psi(x)}{\\mathrm{d}x^2} = E \\psi (x)\n",
    "$$\n",
    "Assumindo que nao temos potencial externo a caixa. As auto funcoes sao dadas por\n",
    "$$\n",
    "\\phi_k (x) = \\frac{1}{\\sqrt{L}}e^{ikx}\n",
    "$$\n",
    "Por meio da nossa da condicao de contorno, podemos escreve-la $\\phi_k = \\phi_k (x+L)$, Por meio dessas duas equacoes podemos escrever como\n",
    "$$\n",
    "k = \\frac{2 \\pi}{L}n\n",
    "$$\n",
    "Substituindo essas relacoes na relacao de $E$ vamos ter\n",
    "$$\n",
    "E = \\frac{\\hbar ^2}{2m} \\left(\\frac{2 \\pi}{L} \\right)^2 n^2\n",
    "$$\n",
    "Vamos implementar"
   ]
  },
  {
   "cell_type": "code",
   "execution_count": 1,
   "metadata": {},
   "outputs": [],
   "source": [
    "import numpy as np\n",
    "import cmath\n",
    "from math import exp"
   ]
  },
  {
   "cell_type": "code",
   "execution_count": null,
   "metadata": {},
   "outputs": [],
   "source": [
    "def hermite(n,x):\n",
    "     \"\"\"\n",
    "     n:numero de graus\n",
    "     x: valor que queremos saber\n",
    "     \"\"\"\n",
    "    val0 = 1\n",
    "    val1 = 2*x\n",
    "    for i in range(1,n):\n",
    "        val2= 2*x*val1 - 2*i*val0\n",
    "        val0 = val1\n",
    "        val1 = val2\n",
    "    dval = 2*n*val0\n",
    "    return val2\n",
    "def psiqho(x, nametoval):\n",
    "    \"\"\"\n",
    "    nametoval: dicionario que contem\n",
    "    n: numero quantico\n",
    "    m_om_hbar: constante m omega planck\n",
    "    alpha: parametro extra para a gaussiana\n",
    "    \"\"\"\n",
    "    n = nametoval[\"n\"]\n",
    "    momhbar = nametoval[\"momhbar\"]\n",
    "    al = nametoval[\"alpha\"]\n",
    "    psival = momhbar**0.25 * np.exp(-0.5*al*momhbar * x**2)\n",
    "    psival /= np.sqrt(2**n *  np.math.factorial(n) * np.sqrt(np.pi))\n",
    "def psibox(x, nametoval):\n",
    "    \"\"\"\n",
    "    nametoval: dicionario que contem\n",
    "    n: numero quantico\n",
    "    boxl: tamanho da caixa\n",
    "    \"\"\"\n",
    "    n = nametoval[\"n\"]\n",
    "    boxl = nametoval[\"boxl\"]\n",
    "    return cmath.exp(2*np.pi*x*1j/boxl)\n"
   ]
  }
 ],
 "metadata": {
  "kernelspec": {
   "display_name": "Python 3 (ipykernel)",
   "language": "python",
   "name": "python3"
  },
  "language_info": {
   "codemirror_mode": {
    "name": "ipython",
    "version": 3
   },
   "file_extension": ".py",
   "mimetype": "text/x-python",
   "name": "python",
   "nbconvert_exporter": "python",
   "pygments_lexer": "ipython3",
   "version": "3.9.7"
  }
 },
 "nbformat": 4,
 "nbformat_minor": 2
}
